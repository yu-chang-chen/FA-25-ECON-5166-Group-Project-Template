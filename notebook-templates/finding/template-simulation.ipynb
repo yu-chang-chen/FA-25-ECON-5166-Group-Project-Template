{
 "cells": [
  {
   "cell_type": "markdown",
   "id": "d4676f81",
   "metadata": {},
   "source": [
    "# Background\n",
    "- **Author**: `<AUTHOR NAME>`\n",
    "- **Created At**: `<YYYY-MM-DD>`\n",
    "- **Model Specification**\n",
    "    - Method：\n",
    "    - Tuning Parameters：\n",
    "    - Optimization Method：\n",
    "- **Main Findings and Takeaways：**\n",
    "- **Future Direciton：**"
   ]
  },
  {
   "cell_type": "markdown",
   "id": "d54c8785",
   "metadata": {},
   "source": [
    "Please insert the simulation results below. These should include graphs or tables illustrating how performance metrics  (e.g., MSE for estimators, size and power for hypothesis tests) change with different sample sizes and parameter values.\n",
    "\n",
    "Make sure you have followed the guidelines as specified in \n",
    "[專案資料夾結構、檔案命名與文件規範](https://docs.google.com/document/d/1sl6gEFMdmiGsiNjLe17UmZ30xKxq15U0Mb2B-Jvusxg/edit?tab=t.33iie8ybx7s4)."
   ]
  },
  {
   "cell_type": "code",
   "execution_count": null,
   "id": "fdda822f",
   "metadata": {},
   "outputs": [],
   "source": [
    "# Load packages here\n"
   ]
  },
  {
   "cell_type": "code",
   "execution_count": null,
   "id": "99e691c8",
   "metadata": {},
   "outputs": [],
   "source": [
    "# Declare all the parameter in the data generation processs here.\n",
    "# Number of simulation\n",
    "\n",
    "# Sample size \n",
    "\n",
    "# Main parameter of interests\n",
    "\n",
    "# Other parameters"
   ]
  },
  {
   "cell_type": "code",
   "execution_count": null,
   "id": "f349da1d",
   "metadata": {},
   "outputs": [],
   "source": [
    "# Create a function that takes parameters above as arguments and generate the data\n",
    "# Concluding this block by generating the data.\n",
    "# Note: Please set the seed right before you generate the data."
   ]
  },
  {
   "cell_type": "markdown",
   "id": "a506e52e",
   "metadata": {},
   "source": [
    "For the remaining blocks, make sure you have followed the guidelines as specified in [專案資料夾結構、檔案命名與文件規範](https://docs.google.com/document/d/1sl6gEFMdmiGsiNjLe17UmZ30xKxq15U0Mb2B-Jvusxg/edit?tab=t.33iie8ybx7s4).\n"
   ]
  },
  {
   "cell_type": "code",
   "execution_count": null,
   "id": "c5a01836",
   "metadata": {},
   "outputs": [],
   "source": [
    "# Include the model specification here.  Please describe the model by stating, including\n",
    "# type of method used, the variables included, the hyperparameters, and\n",
    "# the method of optimization. \n",
    " "
   ]
  },
  {
   "cell_type": "code",
   "execution_count": null,
   "id": "d508f661",
   "metadata": {},
   "outputs": [],
   "source": [
    "# Define the estimator or test as a function that takes the data as input.\n",
    "# If tuning or hyperparameters are required, include them as function arguments. \n",
    "# Declare their default values before defining the function."
   ]
  },
  {
   "cell_type": "code",
   "execution_count": null,
   "id": "4da7b41b",
   "metadata": {},
   "outputs": [],
   "source": []
  },
  {
   "cell_type": "code",
   "execution_count": null,
   "id": "2484033b",
   "metadata": {},
   "outputs": [],
   "source": [
    "# Report the performance metrics in this block.\n",
    " "
   ]
  }
 ],
 "metadata": {
  "kernelspec": {
   "display_name": "Python 3",
   "language": "python",
   "name": "python3"
  },
  "language_info": {
   "codemirror_mode": {
    "name": "ipython",
    "version": 3
   },
   "file_extension": ".py",
   "mimetype": "text/x-python",
   "name": "python",
   "nbconvert_exporter": "python",
   "pygments_lexer": "ipython3",
   "version": "3.9.6"
  }
 },
 "nbformat": 4,
 "nbformat_minor": 5
}
