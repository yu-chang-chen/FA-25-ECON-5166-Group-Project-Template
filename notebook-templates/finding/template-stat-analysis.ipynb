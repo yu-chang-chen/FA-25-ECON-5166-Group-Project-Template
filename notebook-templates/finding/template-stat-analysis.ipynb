{
 "cells": [
  {
   "cell_type": "markdown",
   "id": "d4676f81",
   "metadata": {},
   "source": [
    "# Background\n",
    "\n",
    "- **Author**: `<AUTHOR NAME>`\n",
    "- **Created At**: `<YYYY-MM-DD>`\n",
    "- **Research Motivation and Context (why are we interested in the findings?)：**\n",
    "- **Main Findings and Takeaways：**\n",
    "- **Future Direciton：**"
   ]
  },
  {
   "cell_type": "code",
   "execution_count": null,
   "id": "fdda822f",
   "metadata": {},
   "outputs": [],
   "source": [
    "# Load packages here\n",
    "\n",
    "\n"
   ]
  },
  {
   "cell_type": "code",
   "execution_count": null,
   "id": "99e691c8",
   "metadata": {},
   "outputs": [],
   "source": [
    "# Load input data here and please finish all the data manipulation here.\n",
    "# Finish this block by printing the first ten observations of the data.\n",
    "# Note:\n",
    "# - You may only read data from /data/processed.\n",
    "# - Files in /data/processed should already be cleaned and prepared for analysis.\n",
    "# - Beyond simple filtering of observations or generating a small number of variables,\n",
    "#   further data manipulation is not allowed. If more extensive changes are needed,\n",
    "#   update the source data instead.\n"
   ]
  },
  {
   "cell_type": "code",
   "execution_count": null,
   "id": "978971d2",
   "metadata": {},
   "outputs": [],
   "source": [
    "# Before conducting the analysis, report summary statistics for all variables \n",
    "# that will be used in this notebook:\n",
    "#   - For numeric variables: mean, min, 25th percentile, median, 75th percentile, \n",
    "#     max, standard deviation, and number of observations.\n",
    "#   - For categorical variables: number of observations and the counts/percentages \n",
    "#     of the ten most frequent categories.\n",
    "# Conclude this block with the complete summary statistics."
   ]
  },
  {
   "cell_type": "markdown",
   "id": "a506e52e",
   "metadata": {},
   "source": [
    "### The actual analysis starts below\n",
    "Make the graphs, summary statistics, regression model below.\n",
    "Make sure you have followed the guidelines as specified in \n",
    "[專案資料夾結構、檔案命名與文件規範](https://docs.google.com/document/d/1sl6gEFMdmiGsiNjLe17UmZ30xKxq15U0Mb2B-Jvusxg/edit?tab=t.33iie8ybx7s4).\n"
   ]
  },
  {
   "cell_type": "code",
   "execution_count": null,
   "id": "c5a01836",
   "metadata": {},
   "outputs": [],
   "source": []
  }
 ],
 "metadata": {
  "kernelspec": {
   "display_name": "Python 3",
   "language": "python",
   "name": "python3"
  },
  "language_info": {
   "codemirror_mode": {
    "name": "ipython",
    "version": 3
   },
   "file_extension": ".py",
   "mimetype": "text/x-python",
   "name": "python",
   "nbconvert_exporter": "python",
   "pygments_lexer": "ipython3",
   "version": "3.9.6"
  }
 },
 "nbformat": 4,
 "nbformat_minor": 5
}
