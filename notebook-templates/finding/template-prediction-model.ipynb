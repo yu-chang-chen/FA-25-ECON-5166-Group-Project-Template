{
 "cells": [
  {
   "cell_type": "markdown",
   "id": "d4676f81",
   "metadata": {},
   "source": [
    "# Background\n",
    "- **Author**: `<AUTHOR NAME>`\n",
    "- **Created At**: `<YYYY-MM-DD>`\n",
    "- **Path to Training Data：**\n",
    "- **Path to Testing Data：**\n",
    "- **Model Specification \n",
    "    - Method：\n",
    "    - Variables：\n",
    "    - Tuning Parameters：\n",
    "    - Optimization Method：\n",
    "- **Main Findings and Takeaways：**\n",
    "    - In-sample `<metric>`:\n",
    "    - Out-sample `<metric>`:\n",
    "- **Future Direciton：**"
   ]
  },
  {
   "cell_type": "code",
   "execution_count": null,
   "id": "fdda822f",
   "metadata": {},
   "outputs": [],
   "source": [
    "# Load packages here\n"
   ]
  },
  {
   "cell_type": "code",
   "execution_count": null,
   "id": "99e691c8",
   "metadata": {},
   "outputs": [],
   "source": [
    "# Load the TRAINING data here and please finish all the data manipulation here.\n",
    "# Finish this block by printing the first ten observations of the data.\n",
    "# Note:\n",
    "# - You may only read data from /data/processed.\n",
    "# - Files in /data/processed should already be cleaned and prepared for analysis.\n",
    "# - Beyond simple filtering of observations or generating a small number of variables,\n",
    "#   further data manipulation is not allowed. If more extensive changes are needed,\n",
    "#   update the source data instead.\n"
   ]
  },
  {
   "cell_type": "code",
   "execution_count": null,
   "id": "f349da1d",
   "metadata": {},
   "outputs": [],
   "source": [
    "# Load the TESTING data here and please finish all the data manipulation here.\n",
    "# Finish this block by printing the first ten observations of the data."
   ]
  },
  {
   "cell_type": "markdown",
   "id": "a506e52e",
   "metadata": {},
   "source": [
    "### The actual modeling starts below\n",
    "For the remaining blocks, make sure you have followed the guidelines as specified in [專案資料夾結構、檔案命名與文件規範](https://docs.google.com/document/d/1sl6gEFMdmiGsiNjLe17UmZ30xKxq15U0Mb2B-Jvusxg/edit?tab=t.33iie8ybx7s4).\n"
   ]
  },
  {
   "cell_type": "code",
   "execution_count": null,
   "id": "c5a01836",
   "metadata": {},
   "outputs": [],
   "source": [
    "# Include the model specification here.  Please describe the model by stating, including\n",
    "# type of method used, the variables included, the hyperparameters, and\n",
    "# the method of optimization. \n",
    " "
   ]
  },
  {
   "cell_type": "code",
   "execution_count": null,
   "id": "d508f661",
   "metadata": {},
   "outputs": [],
   "source": []
  },
  {
   "cell_type": "code",
   "execution_count": null,
   "id": "4da7b41b",
   "metadata": {},
   "outputs": [],
   "source": []
  },
  {
   "cell_type": "code",
   "execution_count": null,
   "id": "2484033b",
   "metadata": {},
   "outputs": [],
   "source": [
    "# Report the performance metrics for training data in this block.\n",
    " "
   ]
  },
  {
   "cell_type": "code",
   "execution_count": null,
   "id": "363ad9d2",
   "metadata": {},
   "outputs": [],
   "source": [
    "# Report the performance metrics for testing data in this block.\n",
    " "
   ]
  }
 ],
 "metadata": {
  "kernelspec": {
   "display_name": "Python 3",
   "language": "python",
   "name": "python3"
  },
  "language_info": {
   "codemirror_mode": {
    "name": "ipython",
    "version": 3
   },
   "file_extension": ".py",
   "mimetype": "text/x-python",
   "name": "python",
   "nbconvert_exporter": "python",
   "pygments_lexer": "ipython3",
   "version": "3.9.6"
  }
 },
 "nbformat": 4,
 "nbformat_minor": 5
}
