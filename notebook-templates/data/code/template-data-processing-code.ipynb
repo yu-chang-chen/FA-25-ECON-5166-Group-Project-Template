{
 "cells": [
  {
   "cell_type": "markdown",
   "id": "d4676f81",
   "metadata": {},
   "source": [
    "# README\n",
    "\n",
    "- **Author**: `<AUTHOR NAME>`\n",
    "- **Created At**: `<YYYY-MM-DD>`\n",
    "- **Last Modified At**: `<YYYY-MM-DD>`\n",
    "\n",
    "---\n",
    "\n",
    "## What does this file do?\n",
    "\n",
    "- `<Describe the first purpose of this file>`\n",
    "- `<Describe the second purpose of this file>`\n",
    "- `<Add more if needed>`\n",
    "\n",
    "---\n",
    "\n",
    "## What does this file take?\n",
    "\n",
    "- **Source Data Sets**:  \n",
    "  1. `/data/raw/<INPUT_FILE_NAME>` \n",
    "    - Description: `<What does this input file contain?>` \n",
    "  2. `<Add more input files if needed>`\n",
    "  \n",
    "---\n",
    "\n",
    "## What does this file output?\n",
    "\n",
    "- `/data/final/<OUTPUT_FILE_NAME>`  \n",
    "  - Description: `<What does this output file contain?>`\n",
    "- `<Add more input files if needed>`\n"
   ]
  },
  {
   "cell_type": "code",
   "execution_count": null,
   "id": "fdda822f",
   "metadata": {},
   "outputs": [],
   "source": [
    "# Load packages here\n",
    "\n",
    "\n"
   ]
  },
  {
   "cell_type": "code",
   "execution_count": null,
   "id": "99e691c8",
   "metadata": {},
   "outputs": [],
   "source": [
    "# Load input here\n",
    "\n",
    "\n"
   ]
  }
 ],
 "metadata": {
  "kernelspec": {
   "display_name": "Python 3",
   "language": "python",
   "name": "python3"
  },
  "language_info": {
   "codemirror_mode": {
    "name": "ipython",
    "version": 3
   },
   "file_extension": ".py",
   "mimetype": "text/x-python",
   "name": "python",
   "nbconvert_exporter": "python",
   "pygments_lexer": "ipython3",
   "version": "3.9.6"
  }
 },
 "nbformat": 4,
 "nbformat_minor": 5
}
